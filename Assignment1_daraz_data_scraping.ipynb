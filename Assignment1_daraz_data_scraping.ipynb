{
  "nbformat": 4,
  "nbformat_minor": 0,
  "metadata": {
    "colab": {
      "name": "Assignment1 daraz data scraping.ipynb",
      "provenance": []
    },
    "kernelspec": {
      "name": "python3",
      "display_name": "Python 3"
    },
    "language_info": {
      "name": "python"
    }
  },
  "cells": [
    {
      "cell_type": "code",
      "execution_count": 1,
      "metadata": {
        "colab": {
          "base_uri": "https://localhost:8080/"
        },
        "id": "FlEH54xhu1lh",
        "outputId": "5a16eb60-653a-4e4b-9d72-61fd28a7498c"
      },
      "outputs": [
        {
          "output_type": "stream",
          "name": "stdout",
          "text": [
            "\u001b[K     |████████████████████████████████| 57 kB 2.5 MB/s \n",
            "\u001b[K     |████████████████████████████████| 1.6 MB 8.3 MB/s \n",
            "\u001b[?25h"
          ]
        }
      ],
      "source": [
        "!pip install kora -q"
      ]
    },
    {
      "cell_type": "code",
      "source": [
        "#using selenium and bs4 daraz\n",
        "from bs4 import BeautifulSoup\n",
        "import requests\n",
        "import re\n",
        "from kora.selenium import wd #header for selenium in google colab may need !pip install kora -q\n",
        "\n",
        "search_name=str(input(\"Enter the name of the product *try 'television 4k'* -->\"))\n",
        "#search_name=\"television 4k\"\n",
        "search_product=search_name.replace(' ','%20') #remove spaces\n",
        "print(\"Calculating total number of pages .......\")\n",
        "\n",
        "wd.get(f'https://www.daraz.com.np/catalog/?q={search_product}')\n",
        "code=BeautifulSoup(wd.page_source,\"html.parser\")\n",
        "\n",
        "total_number_of_pages=int(code.find(class_=\"pager--mb0Ws\").find_all('a')[-2].text)\n",
        "\n",
        "print(f\"Total number of pages for {search_name} are ---->{total_number_of_pages}\")\n",
        "number_of_pages=int(input(f\"Out of {total_number_of_pages} pages, how many pages do you want to scrap? \"))\n",
        "\n",
        "all_data=[]\n",
        "iname=[]#for graph\n",
        "iprice=[]#for graph\n",
        "for page in range(1,number_of_pages+1):\n",
        "  print(f\"Calculating for page {page}.......\")\n",
        "  wd.get(f'https://www.daraz.com.np/catalog/?page={page}&q={search_product}')\n",
        "  code=BeautifulSoup(wd.page_source,\"html.parser\")\n",
        "  sn=1\n",
        "  items = code.find_all(class_=\"title--wFj93\")\n",
        "  for item in items:\n",
        "    each_item=[]\n",
        "    each_item.append(page)\n",
        "    each_item.append(sn)\n",
        "    #item name\n",
        "    item_name = str(item.text)\n",
        "    iname.append(item_name)#for graph\n",
        "    each_item.append(item_name)\n",
        "    #price\n",
        "    item_price = int(item.next_sibling.text.replace(\",\",\"\").replace(\"Rs. \",\"\"))\n",
        "    iprice.append(item_price)#for graph\n",
        "    each_item.append(item_price)\n",
        "    #discount(originalprice, discount rate, free shiping)\n",
        "    item_discount = item.next_sibling.next_sibling\n",
        "    item_original_price = item_discount.find(class_=\"origPrice--AJxRs\").text if item_discount.find(class_=\"origPrice--AJxRs\") else \"None\"\n",
        "    each_item.append(item_original_price)\n",
        "    item_discount_rate = item_discount.find(class_=\"discount--HADrg\").text if item_discount.find(class_=\"discount--HADrg\") else \"None\"\n",
        "    each_item.append(item_discount_rate)\n",
        "    if(item_discount.find(\"i\")):\n",
        "      item_shipping=\"Free Shipping\"\n",
        "      each_item.append(item_shipping)\n",
        "    else:\n",
        "      item_shipping=\"No Free Shipping\"\n",
        "      each_item.append(item_shipping)\n",
        "    # rating and review\n",
        "    item_ratingreview=item.next_sibling.next_sibling.next_sibling\n",
        "    if item_ratingreview.find_all(\"i\"):\n",
        "      item_ratings = item_ratingreview.find_all(\"i\")\n",
        "      item_rating=0\n",
        "      for r in item_ratings:\n",
        "        item_rating = item_rating + int(r[\"class\"][1][5:-7])\n",
        "      each_item.append(item_rating)\n",
        "    else:\n",
        "      item_rating = \"None\"\n",
        "      each_item.append(item_rating)\n",
        "\n",
        "    if item_ratingreview.find(class_=\"rating__review--ygkUy\"):\n",
        "      item_review = item_ratingreview.find(\"span\").text[1:-1]\n",
        "      each_item.append(item_review)\n",
        "    else:\n",
        "      item_review = \"None\"\n",
        "      each_item.append(item_review)\n",
        "    #link\n",
        "    item_link = item.a[\"href\"]\n",
        "    each_item.append(item_link)\n",
        "    all_data.append(each_item)\n",
        "    sn=sn+1\n",
        "\n",
        "print(all_data)\n",
        "\n",
        "\n",
        "#loop over\n",
        "#write CSV\n",
        "import csv\n",
        "header =[\"Page\",\"SN\",\"Item_name\",\"Item_price\",\"Item_Original_Price\",\"Item_Discount_Rate\",\"Shipping\",\"Rating\",\"Number_of_Review\",\"Link\"]\n",
        "file = open('Daraz_Scrap.csv','w')\n",
        "x = csv.writer(file)\n",
        "x.writerow(header)\n",
        "for i in all_data:  \n",
        "  x.writerow(i)\n",
        "file.close()\n",
        "print()\n",
        "print(\"-----------Graph------------\")\n",
        "#plot graph\n",
        "import plotly.graph_objects as go\n",
        "fig = go.Figure([go.Bar(x=iname, y=iprice)])\n",
        "fig.show()\n",
        "print()\n",
        "print(\"----------Most and Least expensive-------------\")\n",
        "#most expensive and least price\n",
        "max_price=max(iprice)\n",
        "min_price=min(iprice)\n",
        "for p in range(len(iprice)):\n",
        "  if iprice[p]==max_price:\n",
        "    print(f\"In {number_of_pages} pages, Most expensive {search_name} is {iname[p]} and price is {max_price} {iprice[p]} NPR\")\n",
        "  if iprice[p]==min_price:\n",
        "    print(f\"In {number_of_pages} pages, Least expensive {search_name} is {iname[p]} and price is {min_price} {iprice[p]} NPR\")\n",
        "\n",
        "\n",
        "print(\"-----------------------\")\n"
      ],
      "metadata": {
        "colab": {
          "base_uri": "https://localhost:8080/",
          "height": 805
        },
        "id": "BR6_CvpqvGM8",
        "outputId": "73faba9e-aff1-45a8-e0ed-8aa4a9190734"
      },
      "execution_count": 3,
      "outputs": [
        {
          "output_type": "stream",
          "name": "stdout",
          "text": [
            "Enter the name of the product *try 'television 4k'* -->refrigerator\n",
            "Calculating total number of pages .......\n",
            "Total number of pages for refrigerator are ---->64\n",
            "Out of 64 pages, how many pages do you want to scrap? 2\n",
            "Calculating for page 1.......\n",
            "Calculating for page 2.......\n",
            "[[1, 1, 'Palsonic Australia SRS100-DT 100 Ltrs Single Door Mini Refrigerator', 18100, 'Rs. 21,000', '-14%', 'Free Shipping', 46, '16', '//www.daraz.com.np/products/palsonic-australia-srs100-dt-100-ltrs-single-door-mini-refrigerator-i100216635-s1020469713.html?search=1'], [1, 2, 'Yasuda Refrigerator YGDC200RE', 30170, 'Rs. 33,520', '-10%', 'Free Shipping', 'None', 'None', '//www.daraz.com.np/products/yasuda-refrigerator-ygdc200re-i117806991-s1032299202.html?search=1'], [1, 3, 'SAMSUNG RT28A3022GS - 253 Ltr Frost Free Double Door Refrigerator (Dit) - Silver', 47999, 'Rs. 54,490', '-12%', 'Free Shipping', 48, '45', '//www.daraz.com.np/products/samsung-rt28a3022gs-253-ltr-frost-free-double-door-refrigerator-dit-silver-i101046883-s1021586748.html?search=1'], [1, 4, 'WHIRLPOOL 200 IMPC Cls Grey Nep - 185 Litres  Direct Cooling Single Door Refrigerator (Grey)', 24499, 'Rs. 29,140', '-16%', 'Free Shipping', 40, '11', '//www.daraz.com.np/products/whirlpool-200-impc-cls-grey-nep-185-litres-direct-cooling-single-door-refrigerator-grey-i105481527-s1027250662.html?search=1'], [1, 5, 'WHIRLPOOL Protton 260 Litres Triple Door Frost Free Refrigerator (Alpha Steel)', 56999, 'Rs. 67,110', '-15%', 'Free Shipping', 50, '13', '//www.daraz.com.np/products/whirlpool-protton-260-litres-triple-door-frost-free-refrigerator-alpha-steel-i104336678-s1025284325.html?search=1'], [1, 6, 'WHIRLPOOL 245 Litres Frost Free Double Door Refrigerator (NEO 258 LH PRM-Wine Chromium)', 39999, 'Rs. 49,332', '-19%', 'Free Shipping', 45, '12', '//www.daraz.com.np/products/whirlpool-245-litres-frost-free-double-door-refrigerator-neo-258-lh-prm-wine-chromium-i104840922-s1026334680.html?search=1'], [1, 7, 'SAMSUNG RT28A3022GS - 253 Litres Frost Free Digital Inverter Double Door Refrigerator (Grey Silver)', 46000, 'Rs. 55,490', '-17%', 'Free Shipping', 48, '13', '//www.daraz.com.np/products/samsung-rt28a3022gs-253-litres-frost-free-digital-inverter-double-door-refrigerator-grey-silver-i101762144-s1022530122.html?search=1'], [1, 8, 'WALTON WFO 1x1 - 115 Litres Direct Cooling Mini Single Door Refrigerator', 17899, 'Rs. 21,000', '-15%', 'Free Shipping', 'None', 'None', '//www.daraz.com.np/products/walton-wfo-1x1-115-litres-direct-cooling-mini-single-door-refrigerator-i114549178-s1031118037.html?search=1'], [1, 9, 'Whirlpool 245 ltr Double Door Refrigerator', 40250, 'Rs. 49,332', '-18%', 'Free Shipping', 43, '3', '//www.daraz.com.np/products/whirlpool-245-ltr-double-door-refrigerator-i104514600-s1025592064.html?search=1'], [1, 10, 'WHIRLPOOL 200 IMPC Cls Grey Nep - 185 Litres Direct Cooling Single Door Refrigerator (Grey)', 23999, 'Rs. 29,140', '-18%', 'No Free Shipping', 'None', 'None', '//www.daraz.com.np/products/whirlpool-200-impc-cls-grey-nep-185-litres-direct-cooling-single-door-refrigerator-grey-i106559113-s1028151465.html?search=1'], [1, 11, 'WHIRLPOOL 245 Litres Frost Free Double Door Refrigerator (NEO 258 Cls Chromium Steel)', 39999, 'Rs. 49,332', '-19%', 'Free Shipping', 47, '13', '//www.daraz.com.np/products/whirlpool-245-litres-frost-free-double-door-refrigerator-neo-258-cls-chromium-steel-i104542572-s1025704091.html?search=1'], [1, 12, 'COLORS 110 Litres Direct Cooling Single Door Mini Refrigerator (CL-DCR110 Lite-Silver)', 16899, 'Rs. 20,990', '-19%', 'Free Shipping', 50, '5', '//www.daraz.com.np/products/colors-110-litres-direct-cooling-single-door-mini-refrigerator-cl-dcr110-lite-silver-i108590731-s1029319440.html?search=1'], [1, 13, 'Yasuda Refrigerator YGDC280RA', 49100, 'Rs. 54,560', '-10%', 'Free Shipping', 'None', 'None', '//www.daraz.com.np/products/yasuda-refrigerator-ygdc280ra-i117809523-s1032300183.html?search=1'], [1, 14, 'Whirlpool 200 IMPC Cls Grey  185 Litres Ice Magic Power Cool Cls Grey  Single Door Refrigerator', 23899, 'Rs. 29,140', '-18%', 'Free Shipping', 'None', 'None', '//www.daraz.com.np/products/whirlpool-200-impc-cls-grey-185-litres-ice-magic-power-cool-cls-grey-single-door-refrigerator-i117564581-s1032229631.html?search=1'], [1, 15, 'Samsung  Rr19M20A2Rh 192Ltr Single Door Refrigerator - Red', 26999, 'Rs. 29,990', '-10%', 'Free Shipping', 46, '16', '//www.daraz.com.np/products/samsung-rr19m20a2rh-192ltr-single-door-refrigerator-red-i100838214-s1021366246.html?search=1'], [1, 16, 'Daisuke Refrigerator 170 ltr (red floral)', 21000, 'Rs. 26,900', '-22%', 'No Free Shipping', 'None', 'None', '//www.daraz.com.np/products/daisuke-refrigerator-170-ltr-red-floral-i115650041-s1031601962.html?search=1'], [1, 17, 'Yasuda Refrigerator YGDC190RF', 25390, 'Rs. 28,210', '-10%', 'Free Shipping', 'None', 'None', '//www.daraz.com.np/products/yasuda-refrigerator-ygdc190rf-i117814152-s1032300148.html?search=1'], [1, 18, 'Haier Refrigerator  - HRD 2203BS-E/ SD', 33900, 'None', 'None', 'No Free Shipping', 'None', 'None', '//www.daraz.com.np/products/haier-refrigerator-hrd-2203bs-e-sd-i105108337-s1026740870.html?search=1'], [1, 19, 'Whirlpool Protton 240 L, Three Door Frost Free Refrigerator (240 Ltr)', 53899, 'Rs. 63,960', '-16%', 'No Free Shipping', 'None', 'None', '//www.daraz.com.np/products/whirlpool-protton-240-l-three-door-frost-free-refrigerator-240-ltr-i100872146-s1021406538.html?search=1'], [1, 20, 'Whirlpool DF1-06 Mini Bar Refrigerator - 60 Litre (White)', 15200, 'Rs. 18,000', '-16%', 'Free Shipping', 43, '3', '//www.daraz.com.np/products/whirlpool-df1-06-mini-bar-refrigerator-60-litre-white-i114786341-s1031190594.html?search=1'], [1, 21, 'Whirlpool Single Door Refrigerator  185 L-200 GENIUS CLS 2S WINE ( 71591)', 22800, 'Rs. 27,850', '-18%', 'Free Shipping', 50, '1', '//www.daraz.com.np/products/whirlpool-single-door-refrigerator-185-l-200-genius-cls-2s-wine-71591-i112508757-s1030432823.html?search=1'], [1, 22, 'Whirlpool Refrigerator 185 ltrs (71912)', 23900, 'Rs. 29,140', '-18%', 'No Free Shipping', 'None', 'None', '//www.daraz.com.np/products/whirlpool-refrigerator-185-ltrs-71912-i117962571-s1032352192.html?search=1'], [1, 23, 'Yasuda Refrigerator YGDC190BR', 23760, 'Rs. 26,400', '-10%', 'Free Shipping', 'None', 'None', '//www.daraz.com.np/products/yasuda-refrigerator-ygdc190br-i117808608-s1032296867.html?search=1'], [1, 24, 'Yasuda Refrigerator YGDC200RD', 28485, 'Rs. 31,650', '-10%', 'Free Shipping', 'None', 'None', '//www.daraz.com.np/products/yasuda-refrigerator-ygdc200rd-i117814057-s1032296893.html?search=1'], [1, 25, 'COLORS 100 Litres Refrigerator  Mini Refrigerator  (CL-DCR110 LITE)', 16999, 'Rs. 20,990', '-19%', 'No Free Shipping', 30, '1', '//www.daraz.com.np/products/colors-100-litres-refrigerator-mini-refrigerator-cl-dcr110-lite-i115955788-s1031719166.html?search=1'], [1, 26, 'LG Refrigerator 258 Ltrs-GLK292SLTL.APZQ', 50290, 'Rs. 57,790', '-13%', 'Free Shipping', 47, '12', '//www.daraz.com.np/products/lg-refrigerator-258-ltrs-glk292sltlapzq-i101544743-s1022324617.html?search=1'], [1, 27, 'Videocon  Vu201 190L Single Door Refrigerator- Maroon', 22500, 'Rs. 26,000', '-13%', 'Free Shipping', 30, '1', '//www.daraz.com.np/products/videocon-vu201-190l-single-door-refrigerator-maroon-i100814471-s1021314379.html?search=1'], [1, 28, 'Mini Fridge with Mirror LED Lights - 4 Liter', 6500, 'None', 'None', 'No Free Shipping', 'None', 'None', '//www.daraz.com.np/products/mini-fridge-with-mirror-led-lights-4-liter-i115962768-s1031719389.html?search=1'], [1, 29, 'WHIRLPOOL Protton 240 Litres Triple Door Frost Free Refrigerator (Alpha Steel)', 54299, 'Rs. 62,960', '-14%', 'Free Shipping', 50, '5', '//www.daraz.com.np/products/whirlpool-protton-240-litres-triple-door-frost-free-refrigerator-alpha-steel-i104336483-s1025274956.html?search=1'], [1, 30, 'CG Refrigerator 170 Ltrs - CGD170P6.RF', 31490, 'Rs. 35,790', '-12%', 'Free Shipping', 47, '3', '//www.daraz.com.np/products/cg-refrigerator-170-ltrs-cgd170p6rf-i105783561-s1027634698.html?search=1'], [1, 31, 'Frigoglass Showcase/Visi Cooler 600Ltrs (European Design And Engineering)', 117158, 'Rs. 135,990', '-14%', 'Free Shipping', 50, '1', '//www.daraz.com.np/products/frigoglass-showcasevisi-cooler-600ltrs-european-design-and-engineering-i104984440-s1026552169.html?search=1'], [1, 32, 'WHIRLPOOL 200 GENIUS Cls Wine Adora - 185 Litres Direct Cooling Single Door Refrigerator (Wine Flower Pattern)', 24999, 'Rs. 30,690', '-19%', 'Free Shipping', 50, '8', '//www.daraz.com.np/products/whirlpool-200-genius-cls-wine-adora-185-litres-direct-cooling-single-door-refrigerator-wine-flower-pattern-i105494134-s1027254202.html?search=1'], [1, 33, 'Samsung  RR19T25CA6R/Im 192L Single Door Refrigerator- Maroon', 31500, 'Rs. 36,990', '-15%', 'Free Shipping', 'None', 'None', '//www.daraz.com.np/products/samsung-rr19t25ca6rim-192l-single-door-refrigerator-maroon-i104004032-s1024766312.html?search=1'], [1, 34, 'Colors 185ltrs Single Door Refrigerator (CL-DCR181TR)', 22990, 'Rs. 27,299', '-16%', 'No Free Shipping', 'None', 'None', '//www.daraz.com.np/products/colors-185ltrs-single-door-refrigerator-cl-dcr181tr-i116838900-s1031978858.html?search=1'], [1, 35, 'Yasuda Small Refrigerator 135Ltrs  Single Door Refrigerator  YCDM135SH', 20490, 'Rs. 22,170', '-8%', 'No Free Shipping', 'None', 'None', '//www.daraz.com.np/products/yasuda-small-refrigerator-135ltrs-single-door-refrigerator-ycdm135sh-i117464832-s1032186821.html?search=1'], [1, 36, 'Samsung RR19T25CA6U/IM 192L Single Door Refrigerator', 31500, 'Rs. 36,990', '-15%', 'No Free Shipping', 50, '2', '//www.daraz.com.np/products/samsung-rr19t25ca6uim-192l-single-door-refrigerator-i112485833-s1030411378.html?search=1'], [1, 37, 'Panasonic NR-BG271VSS3 270 L Inverter Frost-Free Double-Door Refrigerator', 51000, 'Rs. 58,580', '-13%', 'Free Shipping', 'None', 'None', '//www.daraz.com.np/products/panasonic-nr-bg271vss3-270-l-inverter-frost-free-double-door-refrigerator-i105322401-s1027006607.html?search=1'], [1, 38, 'Videocon  Vep184 172L Single Door Refrigerator-Red', 20990, 'Rs. 25,900', '-19%', 'Free Shipping', 41, '8', '//www.daraz.com.np/products/videocon-vep184-172l-single-door-refrigerator-red-i100822332-s1021322147.html?search=1'], [1, 39, 'Samsung RR19M20A2RH/IM 192Ltr Single Door Refrigerator - Scarlet Red', 26991, 'Rs. 29,990', '-10%', 'Free Shipping', 50, '6', '//www.daraz.com.np/products/samsung-rr19m20a2rhim-192ltr-single-door-refrigerator-scarlet-red-i104340696-s1025316211.html?search=1'], [1, 40, 'Samsung RR19T25CA6U 192 Ltrs Single Door Refrigerator - BLUE', 33291, 'Rs. 36,990', '-10%', 'Free Shipping', 50, '1', '//www.daraz.com.np/products/samsung-rr19t25ca6u-192-ltrs-single-door-refrigerator-blue-i104440601-s1025484036.html?search=1'], [2, 1, '10 Liter Mini Fridge with Mirror + Warmer', 9000, 'None', 'None', 'No Free Shipping', 'None', 'None', '//www.daraz.com.np/products/10-liter-mini-fridge-with-mirror-warmer-i117220676-s1032113392.html?search=1'], [2, 2, 'whirlpool Refrigerator 185 lts (72253)', 22700, 'Rs. 27,850', '-18%', 'No Free Shipping', 'None', 'None', '//www.daraz.com.np/products/whirlpool-refrigerator-185-lts-72253-i116697481-s1032350742.html?search=1'], [2, 3, 'CG Refrigerator 170 Ltrs - CGD170P6.GF', 31490, 'Rs. 35,790', '-12%', 'Free Shipping', 10, '1', '//www.daraz.com.np/products/cg-refrigerator-170-ltrs-cgd170p6gf-i105787382-s1027634697.html?search=1'], [2, 4, 'Haier Refrigerator  - HRD 1923PMG-E/ SD', 39900, 'None', 'None', 'No Free Shipping', 'None', 'None', '//www.daraz.com.np/products/haier-refrigerator-hrd-1923pmg-e-sd-i105104395-s1026750057.html?search=1'], [2, 5, \"Haier 195 Liters 5-Star Rated Single Door Refrigerator | HRD-1955CRC-E | World's No.1 Refrigerator Brand\", 38000, 'Rs. 43,990', '-14%', 'Free Shipping', 'None', 'None', '//www.daraz.com.np/products/haier-195-liters-5-star-rated-single-door-refrigerator-hrd-1955crc-e-worlds-no1-refrigerator-brand-i115967147-s1031716724.html?search=1'], [2, 6, 'Whirlpool 185 Litres Direct Cooling Single Door Refrigerator (200 Genius Cls Plus Wine Linnea)', 25165, 'Rs. 30,690', '-18%', 'Free Shipping', 'None', 'None', '//www.daraz.com.np/products/whirlpool-185-litres-direct-cooling-single-door-refrigerator-200-genius-cls-plus-wine-linnea-i116774501-s1031959694.html?search=1'], [2, 7, 'Haier Convertible 258L Frost Free Twin Energy Saving Top Mount Refrigerator HRF-2783-BS-E', 46000, 'Rs. 57,500', '-20%', 'Free Shipping', 'None', 'None', '//www.daraz.com.np/products/haier-convertible-258l-frost-free-twin-energy-saving-top-mount-refrigerator-hrf-2783-bs-e-i117367776-s1032160805.html?search=1'], [2, 8, 'Frigoglass Showcase/Visi Cooler 1000 Ltrs (European Design And Engineering)', 195556, 'Rs. 215,990', '-9%', 'Free Shipping', 'None', 'None', '//www.daraz.com.np/products/frigoglass-showcasevisi-cooler-1000-ltrs-european-design-and-engineering-i104984443-s1026552171.html?search=1'], [2, 9, 'IceMagic Fresh 200 im 185L, 3 Star Direct Cool Refrigerator', 27999, 'Rs. 32,640', '-14%', 'No Free Shipping', 'None', 'None', '//www.daraz.com.np/products/icemagic-fresh-200-im-185l-3-star-direct-cool-refrigerator-i101082200-s1021610857.html?search=1'], [2, 10, 'Samsung  Rr19M2102Se/Im 192L Single Door Refrigerator- Silver', 26500, 'Rs. 30,990', '-14%', 'Free Shipping', 'None', 'None', '//www.daraz.com.np/products/samsung-rr19m2102seim-192l-single-door-refrigerator-silver-i104000957-s1024772344.html?search=1'], [2, 11, 'WHIRLPOOL 185 Litres Direct Cooling Single Door Refrigerator (200 Genius Cls  Plus Wine Linnea)', 24999, 'Rs. 30,690', '-19%', 'Free Shipping', 48, '6', '//www.daraz.com.np/products/whirlpool-185-litres-direct-cooling-single-door-refrigerator-200-genius-cls-plus-wine-linnea-i108380447-s1029230758.html?search=1'], [2, 12, 'Daisuke Refrigerator 215 ltr (Red Flower)', 25500, 'Rs. 32,000', '-20%', 'No Free Shipping', 'None', 'None', '//www.daraz.com.np/products/daisuke-refrigerator-215-ltr-red-flower-i115484198-s1031567019.html?search=1'], [2, 13, 'Whirlpool  DF1-06 Mini Bar Refrigerator - 60 Liters (White)', 15199, 'Rs. 19,000', '-20%', 'Free Shipping', 48, '6', '//www.daraz.com.np/products/whirlpool-df1-06-mini-bar-refrigerator-60-liters-white-i103169952-s1023919595.html?search=1'], [2, 14, 'CG Refrigerator 190 L - CGS2001PLPR', 29790, 'Rs. 33,790', '-12%', 'Free Shipping', 'None', 'None', '//www.daraz.com.np/products/cg-refrigerator-190-l-cgs2001plpr-i105066598-s1026694026.html?search=1'], [2, 15, 'Whirlpool Protton 240 Litres Frost Free Triple Door Refrigerator With 6th Sense Active Fresh Technology (Wine Stream)', 54799, 'Rs. 64,510', '-15%', 'Free Shipping', 'None', 'None', '//www.daraz.com.np/products/whirlpool-protton-240-litres-frost-free-triple-door-refrigerator-with-6th-sense-active-fresh-technology-wine-stream-i112955057-s1030663444.html?search=1'], [2, 16, 'SAMSUNG RR19A210AGS - 192 Litres Direct Cooling Single Door Refrigerator (Silver Grey)', 27299, 'Rs. 30,990', '-12%', 'Free Shipping', 50, '4', '//www.daraz.com.np/products/samsung-rr19a210ags-192-litres-direct-cooling-single-door-refrigerator-silver-grey-i105464212-s1027189285.html?search=1'], [2, 17, 'Haier 195 Litre Direct Cool Refrigerators | HRD-1955CMM-E', 33999, 'Rs. 37,500', '-9%', 'No Free Shipping', 'None', 'None', '//www.daraz.com.np/products/haier-195-litre-direct-cool-refrigerators-hrd-1955cmm-e-i117576420-s1032231443.html?search=1'], [2, 18, 'Whirlpool  200 IMPC Cls Grey Nep - 185 Litres Direct Cooling Single Door Refrigerator Grey ( 71912 )', 23895, 'Rs. 29,140', '-18%', 'Free Shipping', 'None', 'None', '//www.daraz.com.np/products/whirlpool-200-impc-cls-grey-nep-185-litres-direct-cooling-single-door-refrigerator-grey-71912-i112329689-s1030377973.html?search=1'], [2, 19, 'Haier 170 Liters Single Door Refrigerator HRD-1702SR-E', 23990, 'Rs. 28,990', '-17%', 'Free Shipping', 50, '1', '//www.daraz.com.np/products/haier-170-liters-single-door-refrigerator-hrd-1702sr-e-i115906840-s1031691628.html?search=1'], [2, 20, 'WESTERN Chiller SRC381GL - 340 Litres Vertical Glass Door Visi Cooler With Canopy', 84999, 'Rs. 97,190', '-13%', 'Free Shipping', 'None', 'None', '//www.daraz.com.np/products/western-chiller-src381gl-340-litres-vertical-glass-door-visi-cooler-with-canopy-i115841479-s1031678866.html?search=1'], [2, 21, 'SAMSUNG RT34T46324R - 314 Litres Digital Inverter 5.1 Convertible Double Door Refrigerator with Curd Maestro', 69500, 'Rs. 81,490', '-15%', 'Free Shipping', 50, '2', '//www.daraz.com.np/products/samsung-rt34t46324r-314-litres-digital-inverter-51-convertible-double-door-refrigerator-with-curd-maestro-i115663380-s1031622145.html?search=1'], [2, 22, 'Webor 180 Ltr Single Door Refrigerator', 25200, 'Rs. 28,990', '-13%', 'Free Shipping', 'None', 'None', '//www.daraz.com.np/products/webor-180-ltr-single-door-refrigerator-i117758723-s1032279936.html?search=1'], [2, 23, 'Della 100 Ltrs Mini Refrigerator (DL110RGGN)', 17490, 'Rs. 23,190', '-25%', 'No Free Shipping', 47, '3', '//www.daraz.com.np/products/della-100-ltrs-mini-refrigerator-dl110rggn-i113515717-s1030852649.html?search=1'], [2, 24, 'GEM 100Ltr. Refrigerator GGRDN-120HSTP', 18000, 'Rs. 23,500', '-23%', 'Free Shipping', 'None', 'None', '//www.daraz.com.np/products/gem-100ltr-refrigerator-ggrdn-120hstp-i116588562-s1031888803.html?search=1'], [2, 25, 'COLORS 100 Liters Direct Cooling Single Door Mini Refrigerator (CL-DCR110 Lite-Silver)', 16900, 'Rs. 20,990', '-19%', 'Free Shipping', 'None', 'None', '//www.daraz.com.np/products/colors-100-liters-direct-cooling-single-door-mini-refrigerator-cl-dcr110-lite-silver-i117403677-s1032171673.html?search=1'], [2, 26, 'Samsung RR20T282ZR8/IM 192 Ltr Single Door Refrigerator DIT-Blooming Saffron', 37341, 'Rs. 41,490', '-10%', 'Free Shipping', 'None', 'None', '//www.daraz.com.np/products/samsung-rr20t282zr8im-192-ltr-single-door-refrigerator-dit-blooming-saffron-i105254450-s1026936496.html?search=1'], [2, 27, 'Aura 185 Ltr Single Door Refrigerator', 25499, 'Rs. 28,910', '-12%', 'Free Shipping', 'None', 'None', '//www.daraz.com.np/products/aura-185-ltr-single-door-refrigerator-i115064195-s1031473504.html?search=1'], [2, 28, 'CG Refrigerator 190 L - CGS2001PLWN', 29790, 'Rs. 33,790', '-12%', 'Free Shipping', 'None', 'None', '//www.daraz.com.np/products/cg-refrigerator-190-l-cgs2001plwn-i105062664-s1026690130.html?search=1'], [2, 29, 'Whirlpool 200 IMPC CLS 3S Refrigerator 185Ltr 71545', 24327, 'Rs. 28,620', '-15%', 'No Free Shipping', 'None', 'None', '//www.daraz.com.np/products/whirlpool-200-impc-cls-3s-refrigerator-185ltr-71545-i112700162-s1030536116.html?search=1'], [2, 30, 'Frigoglass Showcase/Visi Cooler 295 Litres (European Design And Engineering)', 65176, 'Rs. 69,990', '-7%', 'Free Shipping', 'None', 'None', '//www.daraz.com.np/products/frigoglass-showcasevisi-cooler-295-litres-european-design-and-engineering-i104984442-s1026552170.html?search=1'], [2, 31, 'Whirlpool Neo Fresh 265 Litres Frost Free Double Door Refrigerator( neo 278LH PRM Wine Chromium )', 47155, 'Rs. 57,480', '-18%', 'Free Shipping', 43, '3', '//www.daraz.com.np/products/whirlpool-neo-fresh-265-litres-frost-free-double-door-refrigerator-neo-278lh-prm-wine-chromium-i104496574-s1025566281.html?search=1'], [2, 32, 'CG Refrigerator 185 Ltrs - CGS1951STGR', 24090, 'Rs. 27,390', '-12%', 'Free Shipping', 'None', 'None', '//www.daraz.com.np/products/cg-refrigerator-185-ltrs-cgs1951stgr-i108903448-s1029428396.html?search=1'], [2, 33, 'WHIRLPOOL 200 GENIUS Cls Wine - 185 Litres Direct Cooling Single Door Refrigerator (Wine)', 22799, 'Rs. 27,850', '-18%', 'Free Shipping', 'None', 'None', '//www.daraz.com.np/products/whirlpool-200-genius-cls-wine-185-litres-direct-cooling-single-door-refrigerator-wine-i105487285-s1027254377.html?search=1'], [2, 34, 'WALTON 563 Litres Intelligent Inverter Side By Side Refrigerator (WNI-5F3-GDEL-DD)', 144999, 'Rs. 175,000', '-17%', 'Free Shipping', 'None', 'None', '//www.daraz.com.np/products/walton-563-litres-intelligent-inverter-side-by-side-refrigerator-wni-5f3-gdel-dd-i115560395-s1031590155.html?search=1'], [2, 35, 'Haier Direct Cool Refrigerator  HRD-1955PMG-F', 46000, 'None', 'None', 'No Free Shipping', 'None', 'None', '//www.daraz.com.np/products/haier-direct-cool-refrigerator-hrd-1955pmg-f-i105734989-s1027582797.html?search=1'], [2, 36, 'Whirlpool  200 Im Powercool  Prm 3 S 185 Ltr Single Door Refrigerator', 27999, 'Rs. 32,640', '-14%', 'No Free Shipping', 40, '4', '//www.daraz.com.np/products/whirlpool-200-im-powercool-prm-3-s-185-ltr-single-door-refrigerator-i101042919-s1021590585.html?search=1'], [2, 37, 'Panasonic NR-BG272VPA3 270 L Inverter Frost-Free Double-Door Refrigerator', 54441, 'Rs. 60,490', '-10%', 'Free Shipping', 'None', 'None', '//www.daraz.com.np/products/panasonic-nr-bg272vpa3-270-l-inverter-frost-free-double-door-refrigerator-i105312559-s1027002708.html?search=1'], [2, 38, 'Konka Refrigerator 215 Ltrs Single Door (KRF230B/R)', 31000, 'Rs. 39,690', '-22%', 'No Free Shipping', 'None', 'None', '//www.daraz.com.np/products/konka-refrigerator-215-ltrs-single-door-krf230br-i115534257-s1031580048.html?search=1'], [2, 39, 'COLORS 100 Liters Direct Cooling Single Door Mini Refrigerator (CL-DCR110 Lite-Silver)', 16900, 'Rs. 20,990', '-19%', 'Free Shipping', 'None', 'None', '//www.daraz.com.np/products/colors-100-liters-direct-cooling-single-door-mini-refrigerator-cl-dcr110-lite-silver-i117403590-s1032174085.html?search=1'], [2, 40, 'LG Refrigerator 190 L - GLD205ABCB', 37990, 'Rs. 43,690', '-13%', 'Free Shipping', 50, '1', '//www.daraz.com.np/products/lg-refrigerator-190-l-gld205abcb-i104398083-s1025408526.html?search=1']]\n",
            "\n",
            "-----------Graph------------\n"
          ]
        },
        {
          "output_type": "display_data",
          "data": {
            "text/html": [
              "<html>\n",
              "<head><meta charset=\"utf-8\" /></head>\n",
              "<body>\n",
              "    <div>            <script src=\"https://cdnjs.cloudflare.com/ajax/libs/mathjax/2.7.5/MathJax.js?config=TeX-AMS-MML_SVG\"></script><script type=\"text/javascript\">if (window.MathJax) {MathJax.Hub.Config({SVG: {font: \"STIX-Web\"}});}</script>                <script type=\"text/javascript\">window.PlotlyConfig = {MathJaxConfig: 'local'};</script>\n",
              "        <script src=\"https://cdn.plot.ly/plotly-2.8.3.min.js\"></script>                <div id=\"c6769346-cded-4d51-8f8d-eb69995f1bba\" class=\"plotly-graph-div\" style=\"height:525px; width:100%;\"></div>            <script type=\"text/javascript\">                                    window.PLOTLYENV=window.PLOTLYENV || {};                                    if (document.getElementById(\"c6769346-cded-4d51-8f8d-eb69995f1bba\")) {                    Plotly.newPlot(                        \"c6769346-cded-4d51-8f8d-eb69995f1bba\",                        [{\"x\":[\"Palsonic Australia SRS100-DT 100 Ltrs Single Door Mini Refrigerator\",\"Yasuda Refrigerator YGDC200RE\",\"SAMSUNG RT28A3022GS - 253 Ltr Frost Free Double Door Refrigerator (Dit) - Silver\",\"WHIRLPOOL 200 IMPC Cls Grey Nep - 185 Litres  Direct Cooling Single Door Refrigerator (Grey)\",\"WHIRLPOOL Protton 260 Litres Triple Door Frost Free Refrigerator (Alpha Steel)\",\"WHIRLPOOL 245 Litres Frost Free Double Door Refrigerator (NEO 258 LH PRM-Wine Chromium)\",\"SAMSUNG RT28A3022GS - 253 Litres Frost Free Digital Inverter Double Door Refrigerator (Grey Silver)\",\"WALTON WFO 1x1 - 115 Litres Direct Cooling Mini Single Door Refrigerator\",\"Whirlpool 245 ltr Double Door Refrigerator\",\"WHIRLPOOL 200 IMPC Cls Grey Nep - 185 Litres Direct Cooling Single Door Refrigerator (Grey)\",\"WHIRLPOOL 245 Litres Frost Free Double Door Refrigerator (NEO 258 Cls Chromium Steel)\",\"COLORS 110 Litres Direct Cooling Single Door Mini Refrigerator (CL-DCR110 Lite-Silver)\",\"Yasuda Refrigerator YGDC280RA\",\"Whirlpool 200 IMPC Cls Grey  185 Litres Ice Magic Power Cool Cls Grey  Single Door Refrigerator\",\"Samsung  Rr19M20A2Rh 192Ltr Single Door Refrigerator - Red\",\"Daisuke Refrigerator 170 ltr (red floral)\",\"Yasuda Refrigerator YGDC190RF\",\"Haier Refrigerator  - HRD 2203BS-E/ SD\",\"Whirlpool Protton 240 L, Three Door Frost Free Refrigerator (240 Ltr)\",\"Whirlpool DF1-06 Mini Bar Refrigerator - 60 Litre (White)\",\"Whirlpool Single Door Refrigerator  185 L-200 GENIUS CLS 2S WINE ( 71591)\",\"Whirlpool Refrigerator 185 ltrs (71912)\",\"Yasuda Refrigerator YGDC190BR\",\"Yasuda Refrigerator YGDC200RD\",\"COLORS 100 Litres Refrigerator  Mini Refrigerator  (CL-DCR110 LITE)\",\"LG Refrigerator 258 Ltrs-GLK292SLTL.APZQ\",\"Videocon  Vu201 190L Single Door Refrigerator- Maroon\",\"Mini Fridge with Mirror LED Lights - 4 Liter\",\"WHIRLPOOL Protton 240 Litres Triple Door Frost Free Refrigerator (Alpha Steel)\",\"CG Refrigerator 170 Ltrs - CGD170P6.RF\",\"Frigoglass Showcase/Visi Cooler 600Ltrs (European Design And Engineering)\",\"WHIRLPOOL 200 GENIUS Cls Wine Adora - 185 Litres Direct Cooling Single Door Refrigerator (Wine Flower Pattern)\",\"Samsung  RR19T25CA6R/Im 192L Single Door Refrigerator- Maroon\",\"Colors 185ltrs Single Door Refrigerator (CL-DCR181TR)\",\"Yasuda Small Refrigerator 135Ltrs  Single Door Refrigerator  YCDM135SH\",\"Samsung RR19T25CA6U/IM 192L Single Door Refrigerator\",\"Panasonic NR-BG271VSS3 270 L Inverter Frost-Free Double-Door Refrigerator\",\"Videocon  Vep184 172L Single Door Refrigerator-Red\",\"Samsung RR19M20A2RH/IM 192Ltr Single Door Refrigerator - Scarlet Red\",\"Samsung RR19T25CA6U 192 Ltrs Single Door Refrigerator - BLUE\",\"10 Liter Mini Fridge with Mirror + Warmer\",\"whirlpool Refrigerator 185 lts (72253)\",\"CG Refrigerator 170 Ltrs - CGD170P6.GF\",\"Haier Refrigerator  - HRD 1923PMG-E/ SD\",\"Haier 195 Liters 5-Star Rated Single Door Refrigerator | HRD-1955CRC-E | World's No.1 Refrigerator Brand\",\"Whirlpool 185 Litres Direct Cooling Single Door Refrigerator (200 Genius Cls Plus Wine Linnea)\",\"Haier Convertible 258L Frost Free Twin Energy Saving Top Mount Refrigerator HRF-2783-BS-E\",\"Frigoglass Showcase/Visi Cooler 1000 Ltrs (European Design And Engineering)\",\"IceMagic Fresh 200 im 185L, 3 Star Direct Cool Refrigerator\",\"Samsung  Rr19M2102Se/Im 192L Single Door Refrigerator- Silver\",\"WHIRLPOOL 185 Litres Direct Cooling Single Door Refrigerator (200 Genius Cls  Plus Wine Linnea)\",\"Daisuke Refrigerator 215 ltr (Red Flower)\",\"Whirlpool  DF1-06 Mini Bar Refrigerator - 60 Liters (White)\",\"CG Refrigerator 190 L - CGS2001PLPR\",\"Whirlpool Protton 240 Litres Frost Free Triple Door Refrigerator With 6th Sense Active Fresh Technology (Wine Stream)\",\"SAMSUNG RR19A210AGS - 192 Litres Direct Cooling Single Door Refrigerator (Silver Grey)\",\"Haier 195 Litre Direct Cool Refrigerators | HRD-1955CMM-E\",\"Whirlpool  200 IMPC Cls Grey Nep - 185 Litres Direct Cooling Single Door Refrigerator Grey ( 71912 )\",\"Haier 170 Liters Single Door Refrigerator HRD-1702SR-E\",\"WESTERN Chiller SRC381GL - 340 Litres Vertical Glass Door Visi Cooler With Canopy\",\"SAMSUNG RT34T46324R - 314 Litres Digital Inverter 5.1 Convertible Double Door Refrigerator with Curd Maestro\",\"Webor 180 Ltr Single Door Refrigerator\",\"Della 100 Ltrs Mini Refrigerator (DL110RGGN)\",\"GEM 100Ltr. Refrigerator GGRDN-120HSTP\",\"COLORS 100 Liters Direct Cooling Single Door Mini Refrigerator (CL-DCR110 Lite-Silver)\",\"Samsung RR20T282ZR8/IM 192 Ltr Single Door Refrigerator DIT-Blooming Saffron\",\"Aura 185 Ltr Single Door Refrigerator\",\"CG Refrigerator 190 L - CGS2001PLWN\",\"Whirlpool 200 IMPC CLS 3S Refrigerator 185Ltr 71545\",\"Frigoglass Showcase/Visi Cooler 295 Litres (European Design And Engineering)\",\"Whirlpool Neo Fresh 265 Litres Frost Free Double Door Refrigerator( neo 278LH PRM Wine Chromium )\",\"CG Refrigerator 185 Ltrs - CGS1951STGR\",\"WHIRLPOOL 200 GENIUS Cls Wine - 185 Litres Direct Cooling Single Door Refrigerator (Wine)\",\"WALTON 563 Litres Intelligent Inverter Side By Side Refrigerator (WNI-5F3-GDEL-DD)\",\"Haier Direct Cool Refrigerator  HRD-1955PMG-F\",\"Whirlpool  200 Im Powercool  Prm 3 S 185 Ltr Single Door Refrigerator\",\"Panasonic NR-BG272VPA3 270 L Inverter Frost-Free Double-Door Refrigerator\",\"Konka Refrigerator 215 Ltrs Single Door (KRF230B/R)\",\"COLORS 100 Liters Direct Cooling Single Door Mini Refrigerator (CL-DCR110 Lite-Silver)\",\"LG Refrigerator 190 L - GLD205ABCB\"],\"y\":[18100,30170,47999,24499,56999,39999,46000,17899,40250,23999,39999,16899,49100,23899,26999,21000,25390,33900,53899,15200,22800,23900,23760,28485,16999,50290,22500,6500,54299,31490,117158,24999,31500,22990,20490,31500,51000,20990,26991,33291,9000,22700,31490,39900,38000,25165,46000,195556,27999,26500,24999,25500,15199,29790,54799,27299,33999,23895,23990,84999,69500,25200,17490,18000,16900,37341,25499,29790,24327,65176,47155,24090,22799,144999,46000,27999,54441,31000,16900,37990],\"type\":\"bar\"}],                        {\"template\":{\"data\":{\"bar\":[{\"error_x\":{\"color\":\"#2a3f5f\"},\"error_y\":{\"color\":\"#2a3f5f\"},\"marker\":{\"line\":{\"color\":\"#E5ECF6\",\"width\":0.5},\"pattern\":{\"fillmode\":\"overlay\",\"size\":10,\"solidity\":0.2}},\"type\":\"bar\"}],\"barpolar\":[{\"marker\":{\"line\":{\"color\":\"#E5ECF6\",\"width\":0.5},\"pattern\":{\"fillmode\":\"overlay\",\"size\":10,\"solidity\":0.2}},\"type\":\"barpolar\"}],\"carpet\":[{\"aaxis\":{\"endlinecolor\":\"#2a3f5f\",\"gridcolor\":\"white\",\"linecolor\":\"white\",\"minorgridcolor\":\"white\",\"startlinecolor\":\"#2a3f5f\"},\"baxis\":{\"endlinecolor\":\"#2a3f5f\",\"gridcolor\":\"white\",\"linecolor\":\"white\",\"minorgridcolor\":\"white\",\"startlinecolor\":\"#2a3f5f\"},\"type\":\"carpet\"}],\"choropleth\":[{\"colorbar\":{\"outlinewidth\":0,\"ticks\":\"\"},\"type\":\"choropleth\"}],\"contour\":[{\"colorbar\":{\"outlinewidth\":0,\"ticks\":\"\"},\"colorscale\":[[0.0,\"#0d0887\"],[0.1111111111111111,\"#46039f\"],[0.2222222222222222,\"#7201a8\"],[0.3333333333333333,\"#9c179e\"],[0.4444444444444444,\"#bd3786\"],[0.5555555555555556,\"#d8576b\"],[0.6666666666666666,\"#ed7953\"],[0.7777777777777778,\"#fb9f3a\"],[0.8888888888888888,\"#fdca26\"],[1.0,\"#f0f921\"]],\"type\":\"contour\"}],\"contourcarpet\":[{\"colorbar\":{\"outlinewidth\":0,\"ticks\":\"\"},\"type\":\"contourcarpet\"}],\"heatmap\":[{\"colorbar\":{\"outlinewidth\":0,\"ticks\":\"\"},\"colorscale\":[[0.0,\"#0d0887\"],[0.1111111111111111,\"#46039f\"],[0.2222222222222222,\"#7201a8\"],[0.3333333333333333,\"#9c179e\"],[0.4444444444444444,\"#bd3786\"],[0.5555555555555556,\"#d8576b\"],[0.6666666666666666,\"#ed7953\"],[0.7777777777777778,\"#fb9f3a\"],[0.8888888888888888,\"#fdca26\"],[1.0,\"#f0f921\"]],\"type\":\"heatmap\"}],\"heatmapgl\":[{\"colorbar\":{\"outlinewidth\":0,\"ticks\":\"\"},\"colorscale\":[[0.0,\"#0d0887\"],[0.1111111111111111,\"#46039f\"],[0.2222222222222222,\"#7201a8\"],[0.3333333333333333,\"#9c179e\"],[0.4444444444444444,\"#bd3786\"],[0.5555555555555556,\"#d8576b\"],[0.6666666666666666,\"#ed7953\"],[0.7777777777777778,\"#fb9f3a\"],[0.8888888888888888,\"#fdca26\"],[1.0,\"#f0f921\"]],\"type\":\"heatmapgl\"}],\"histogram\":[{\"marker\":{\"pattern\":{\"fillmode\":\"overlay\",\"size\":10,\"solidity\":0.2}},\"type\":\"histogram\"}],\"histogram2d\":[{\"colorbar\":{\"outlinewidth\":0,\"ticks\":\"\"},\"colorscale\":[[0.0,\"#0d0887\"],[0.1111111111111111,\"#46039f\"],[0.2222222222222222,\"#7201a8\"],[0.3333333333333333,\"#9c179e\"],[0.4444444444444444,\"#bd3786\"],[0.5555555555555556,\"#d8576b\"],[0.6666666666666666,\"#ed7953\"],[0.7777777777777778,\"#fb9f3a\"],[0.8888888888888888,\"#fdca26\"],[1.0,\"#f0f921\"]],\"type\":\"histogram2d\"}],\"histogram2dcontour\":[{\"colorbar\":{\"outlinewidth\":0,\"ticks\":\"\"},\"colorscale\":[[0.0,\"#0d0887\"],[0.1111111111111111,\"#46039f\"],[0.2222222222222222,\"#7201a8\"],[0.3333333333333333,\"#9c179e\"],[0.4444444444444444,\"#bd3786\"],[0.5555555555555556,\"#d8576b\"],[0.6666666666666666,\"#ed7953\"],[0.7777777777777778,\"#fb9f3a\"],[0.8888888888888888,\"#fdca26\"],[1.0,\"#f0f921\"]],\"type\":\"histogram2dcontour\"}],\"mesh3d\":[{\"colorbar\":{\"outlinewidth\":0,\"ticks\":\"\"},\"type\":\"mesh3d\"}],\"parcoords\":[{\"line\":{\"colorbar\":{\"outlinewidth\":0,\"ticks\":\"\"}},\"type\":\"parcoords\"}],\"pie\":[{\"automargin\":true,\"type\":\"pie\"}],\"scatter\":[{\"marker\":{\"colorbar\":{\"outlinewidth\":0,\"ticks\":\"\"}},\"type\":\"scatter\"}],\"scatter3d\":[{\"line\":{\"colorbar\":{\"outlinewidth\":0,\"ticks\":\"\"}},\"marker\":{\"colorbar\":{\"outlinewidth\":0,\"ticks\":\"\"}},\"type\":\"scatter3d\"}],\"scattercarpet\":[{\"marker\":{\"colorbar\":{\"outlinewidth\":0,\"ticks\":\"\"}},\"type\":\"scattercarpet\"}],\"scattergeo\":[{\"marker\":{\"colorbar\":{\"outlinewidth\":0,\"ticks\":\"\"}},\"type\":\"scattergeo\"}],\"scattergl\":[{\"marker\":{\"colorbar\":{\"outlinewidth\":0,\"ticks\":\"\"}},\"type\":\"scattergl\"}],\"scattermapbox\":[{\"marker\":{\"colorbar\":{\"outlinewidth\":0,\"ticks\":\"\"}},\"type\":\"scattermapbox\"}],\"scatterpolar\":[{\"marker\":{\"colorbar\":{\"outlinewidth\":0,\"ticks\":\"\"}},\"type\":\"scatterpolar\"}],\"scatterpolargl\":[{\"marker\":{\"colorbar\":{\"outlinewidth\":0,\"ticks\":\"\"}},\"type\":\"scatterpolargl\"}],\"scatterternary\":[{\"marker\":{\"colorbar\":{\"outlinewidth\":0,\"ticks\":\"\"}},\"type\":\"scatterternary\"}],\"surface\":[{\"colorbar\":{\"outlinewidth\":0,\"ticks\":\"\"},\"colorscale\":[[0.0,\"#0d0887\"],[0.1111111111111111,\"#46039f\"],[0.2222222222222222,\"#7201a8\"],[0.3333333333333333,\"#9c179e\"],[0.4444444444444444,\"#bd3786\"],[0.5555555555555556,\"#d8576b\"],[0.6666666666666666,\"#ed7953\"],[0.7777777777777778,\"#fb9f3a\"],[0.8888888888888888,\"#fdca26\"],[1.0,\"#f0f921\"]],\"type\":\"surface\"}],\"table\":[{\"cells\":{\"fill\":{\"color\":\"#EBF0F8\"},\"line\":{\"color\":\"white\"}},\"header\":{\"fill\":{\"color\":\"#C8D4E3\"},\"line\":{\"color\":\"white\"}},\"type\":\"table\"}]},\"layout\":{\"annotationdefaults\":{\"arrowcolor\":\"#2a3f5f\",\"arrowhead\":0,\"arrowwidth\":1},\"autotypenumbers\":\"strict\",\"coloraxis\":{\"colorbar\":{\"outlinewidth\":0,\"ticks\":\"\"}},\"colorscale\":{\"diverging\":[[0,\"#8e0152\"],[0.1,\"#c51b7d\"],[0.2,\"#de77ae\"],[0.3,\"#f1b6da\"],[0.4,\"#fde0ef\"],[0.5,\"#f7f7f7\"],[0.6,\"#e6f5d0\"],[0.7,\"#b8e186\"],[0.8,\"#7fbc41\"],[0.9,\"#4d9221\"],[1,\"#276419\"]],\"sequential\":[[0.0,\"#0d0887\"],[0.1111111111111111,\"#46039f\"],[0.2222222222222222,\"#7201a8\"],[0.3333333333333333,\"#9c179e\"],[0.4444444444444444,\"#bd3786\"],[0.5555555555555556,\"#d8576b\"],[0.6666666666666666,\"#ed7953\"],[0.7777777777777778,\"#fb9f3a\"],[0.8888888888888888,\"#fdca26\"],[1.0,\"#f0f921\"]],\"sequentialminus\":[[0.0,\"#0d0887\"],[0.1111111111111111,\"#46039f\"],[0.2222222222222222,\"#7201a8\"],[0.3333333333333333,\"#9c179e\"],[0.4444444444444444,\"#bd3786\"],[0.5555555555555556,\"#d8576b\"],[0.6666666666666666,\"#ed7953\"],[0.7777777777777778,\"#fb9f3a\"],[0.8888888888888888,\"#fdca26\"],[1.0,\"#f0f921\"]]},\"colorway\":[\"#636efa\",\"#EF553B\",\"#00cc96\",\"#ab63fa\",\"#FFA15A\",\"#19d3f3\",\"#FF6692\",\"#B6E880\",\"#FF97FF\",\"#FECB52\"],\"font\":{\"color\":\"#2a3f5f\"},\"geo\":{\"bgcolor\":\"white\",\"lakecolor\":\"white\",\"landcolor\":\"#E5ECF6\",\"showlakes\":true,\"showland\":true,\"subunitcolor\":\"white\"},\"hoverlabel\":{\"align\":\"left\"},\"hovermode\":\"closest\",\"mapbox\":{\"style\":\"light\"},\"paper_bgcolor\":\"white\",\"plot_bgcolor\":\"#E5ECF6\",\"polar\":{\"angularaxis\":{\"gridcolor\":\"white\",\"linecolor\":\"white\",\"ticks\":\"\"},\"bgcolor\":\"#E5ECF6\",\"radialaxis\":{\"gridcolor\":\"white\",\"linecolor\":\"white\",\"ticks\":\"\"}},\"scene\":{\"xaxis\":{\"backgroundcolor\":\"#E5ECF6\",\"gridcolor\":\"white\",\"gridwidth\":2,\"linecolor\":\"white\",\"showbackground\":true,\"ticks\":\"\",\"zerolinecolor\":\"white\"},\"yaxis\":{\"backgroundcolor\":\"#E5ECF6\",\"gridcolor\":\"white\",\"gridwidth\":2,\"linecolor\":\"white\",\"showbackground\":true,\"ticks\":\"\",\"zerolinecolor\":\"white\"},\"zaxis\":{\"backgroundcolor\":\"#E5ECF6\",\"gridcolor\":\"white\",\"gridwidth\":2,\"linecolor\":\"white\",\"showbackground\":true,\"ticks\":\"\",\"zerolinecolor\":\"white\"}},\"shapedefaults\":{\"line\":{\"color\":\"#2a3f5f\"}},\"ternary\":{\"aaxis\":{\"gridcolor\":\"white\",\"linecolor\":\"white\",\"ticks\":\"\"},\"baxis\":{\"gridcolor\":\"white\",\"linecolor\":\"white\",\"ticks\":\"\"},\"bgcolor\":\"#E5ECF6\",\"caxis\":{\"gridcolor\":\"white\",\"linecolor\":\"white\",\"ticks\":\"\"}},\"title\":{\"x\":0.05},\"xaxis\":{\"automargin\":true,\"gridcolor\":\"white\",\"linecolor\":\"white\",\"ticks\":\"\",\"title\":{\"standoff\":15},\"zerolinecolor\":\"white\",\"zerolinewidth\":2},\"yaxis\":{\"automargin\":true,\"gridcolor\":\"white\",\"linecolor\":\"white\",\"ticks\":\"\",\"title\":{\"standoff\":15},\"zerolinecolor\":\"white\",\"zerolinewidth\":2}}}},                        {\"responsive\": true}                    ).then(function(){\n",
              "                            \n",
              "var gd = document.getElementById('c6769346-cded-4d51-8f8d-eb69995f1bba');\n",
              "var x = new MutationObserver(function (mutations, observer) {{\n",
              "        var display = window.getComputedStyle(gd).display;\n",
              "        if (!display || display === 'none') {{\n",
              "            console.log([gd, 'removed!']);\n",
              "            Plotly.purge(gd);\n",
              "            observer.disconnect();\n",
              "        }}\n",
              "}});\n",
              "\n",
              "// Listen for the removal of the full notebook cells\n",
              "var notebookContainer = gd.closest('#notebook-container');\n",
              "if (notebookContainer) {{\n",
              "    x.observe(notebookContainer, {childList: true});\n",
              "}}\n",
              "\n",
              "// Listen for the clearing of the current output cell\n",
              "var outputEl = gd.closest('.output');\n",
              "if (outputEl) {{\n",
              "    x.observe(outputEl, {childList: true});\n",
              "}}\n",
              "\n",
              "                        })                };                            </script>        </div>\n",
              "</body>\n",
              "</html>"
            ]
          },
          "metadata": {}
        },
        {
          "output_type": "stream",
          "name": "stdout",
          "text": [
            "\n",
            "----------Most and Least expensive-------------\n",
            "In 2 pages, Least expensive refrigerator is Mini Fridge with Mirror LED Lights - 4 Liter and price is 6500 6500 NPR\n",
            "In 2 pages, Most expensive refrigerator is Frigoglass Showcase/Visi Cooler 1000 Ltrs (European Design And Engineering) and price is 195556 195556 NPR\n",
            "-----------------------\n"
          ]
        }
      ]
    }
  ]
}